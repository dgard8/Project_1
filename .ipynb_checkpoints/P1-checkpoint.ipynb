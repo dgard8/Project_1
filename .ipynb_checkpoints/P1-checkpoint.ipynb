{
 "cells": [
  {
   "cell_type": "markdown",
   "metadata": {},
   "source": [
    "# Self-Driving Car Engineer Nanodegree\n",
    "\n",
    "\n",
    "## Project: **Finding Lane Lines on the Road** "
   ]
  },
  {
   "cell_type": "markdown",
   "metadata": {},
   "source": [
    "## Import Packages"
   ]
  },
  {
   "cell_type": "code",
   "execution_count": 1,
   "metadata": {},
   "outputs": [],
   "source": [
    "#importing some useful packages\n",
    "import matplotlib.pyplot as plt\n",
    "import matplotlib.image as mpimg\n",
    "import numpy as np\n",
    "import cv2\n",
    "%matplotlib inline"
   ]
  },
  {
   "cell_type": "markdown",
   "metadata": {},
   "source": [
    "## Helper Functions"
   ]
  },
  {
   "cell_type": "code",
   "execution_count": 2,
   "metadata": {},
   "outputs": [],
   "source": [
    "import math\n",
    "\n",
    "def grayscale(img):\n",
    "    \"\"\"Applies the Grayscale transform\n",
    "    This will return an image with only one color channel\n",
    "    but NOTE: to see the returned image as grayscale\n",
    "    (assuming your grayscaled image is called 'gray')\n",
    "    you should call plt.imshow(gray, cmap='gray')\"\"\"\n",
    "    return cv2.cvtColor(img, cv2.COLOR_RGB2GRAY)\n",
    "    # Or use BGR2GRAY if you read an image with cv2.imread()\n",
    "    # return cv2.cvtColor(img, cv2.COLOR_BGR2GRAY)\n",
    "    \n",
    "def canny(img, low_threshold, high_threshold):\n",
    "    \"\"\"Applies the Canny transform\"\"\"\n",
    "    return cv2.Canny(img, low_threshold, high_threshold)\n",
    "\n",
    "def gaussian_blur(img, kernel_size):\n",
    "    \"\"\"Applies a Gaussian Noise kernel\"\"\"\n",
    "    return cv2.GaussianBlur(img, (kernel_size, kernel_size), 0)\n",
    "\n",
    "def region_of_interest(img, vertices):\n",
    "    \"\"\"\n",
    "    Applies an image mask.\n",
    "    \n",
    "    Only keeps the region of the image defined by the polygon\n",
    "    formed from `vertices`. The rest of the image is set to black.\n",
    "    \"\"\"\n",
    "    #defining a blank mask to start with\n",
    "    mask = np.zeros_like(img)   \n",
    "    \n",
    "    #defining a 3 channel or 1 channel color to fill the mask with depending on the input image\n",
    "    if len(img.shape) > 2:\n",
    "        channel_count = img.shape[2]  # i.e. 3 or 4 depending on your image\n",
    "        ignore_mask_color = (255,) * channel_count\n",
    "    else:\n",
    "        ignore_mask_color = 255\n",
    "        \n",
    "    #filling pixels inside the polygon defined by \"vertices\" with the fill color    \n",
    "    cv2.fillPoly(mask, vertices, ignore_mask_color)\n",
    "    \n",
    "    #returning the image only where mask pixels are nonzero\n",
    "    masked_image = cv2.bitwise_and(img, mask)\n",
    "    return masked_image\n",
    "\n",
    "\n",
    "def draw_lines(img, lines, color=[255, 0, 0], thickness=4):\n",
    "    rightLinesX = []\n",
    "    rightLinesY = []\n",
    "    leftLinesX = []\n",
    "    leftLinesY = []\n",
    "    \n",
    "    middleX = img.shape[1]/2 \n",
    "    maxX = img.shape[1]\n",
    "    maxY = img.shape[0]\n",
    "    \n",
    "    for line in lines:\n",
    "        for x1,y1,x2,y2 in line:\n",
    "            slope = (y2-y1)/(x2-x1)\n",
    "            if slope > 0:\n",
    "                if (x1 > middleX or x2 > middleX):\n",
    "                    leftLinesX.append(x1)\n",
    "                    leftLinesX.append(x2)\n",
    "                    leftLinesY.append(y1)\n",
    "                    leftLinesY.append(y2)\n",
    "            else:\n",
    "                if (x1 < middleX or x2 < middleX):\n",
    "                    rightLinesX.append(x1)\n",
    "                    rightLinesX.append(x2)\n",
    "                    rightLinesY.append(y1)\n",
    "                    rightLinesY.append(y2)\n",
    "    \n",
    "    if leftLinesX:\n",
    "        leftLine = np.polyfit(leftLinesX,leftLinesY,1)\n",
    "        leftLineBottomPointX = (maxY - leftLine[1])/leftLine[0]\n",
    "    \n",
    "    if rightLinesX:\n",
    "        rightLine = np.polyfit(rightLinesX,rightLinesY,1)\n",
    "        rightLineBottomPointX = (maxY - rightLine[1])/rightLine[0]\n",
    "    \n",
    "    if leftLinesX and rightLinesX:\n",
    "        xIntersect = (rightLine[1] - leftLine[1])/(leftLine[0] - rightLine[0])\n",
    "        yIntersect = (leftLine[0]*xIntersect) + leftLine[1]\n",
    "        \n",
    "        xIntersect = int(xIntersect)\n",
    "        yIntersect = int(yIntersect)\n",
    "        \n",
    "        cv2.line(img, (int(leftLineBottomPointX), maxY), (xIntersect, yIntersect), color, thickness)\n",
    "        cv2.line(img, (int(rightLineBottomPointX), maxY), (xIntersect, yIntersect), color, thickness)\n",
    "        \n",
    "    #for line in lines:\n",
    "     #   for x1,y1,x2,y2 in line:\n",
    "      #      cv2.line(img, (x1, y1), (x2, y2), [0, 255, 0], 2)\n",
    "\n",
    "def hough_lines(img, rho, theta, threshold, min_line_len, max_line_gap):\n",
    "    \"\"\"\n",
    "    `img` should be the output of a Canny transform.\n",
    "        \n",
    "    Returns an image with hough lines drawn.\n",
    "    \"\"\"\n",
    "    lines = cv2.HoughLinesP(img, rho, theta, threshold, np.array([]), minLineLength=min_line_len, maxLineGap=max_line_gap)\n",
    "    line_img = np.zeros((img.shape[0], img.shape[1], 3), dtype=np.uint8)\n",
    "    draw_lines_improved(line_img, lines)\n",
    "    #draw_lines(line_img, lines)\n",
    "    return line_img\n",
    "\n",
    "# Python 3 has support for cool math symbols.\n",
    "\n",
    "def weighted_img(img, initial_img, α=0.8, β=1., γ=0.):\n",
    "    \"\"\"\n",
    "    `img` is the output of the hough_lines(), An image with lines drawn on it.\n",
    "    Should be a blank image (all black) with lines drawn on it.\n",
    "    \n",
    "    `initial_img` should be the image before any processing.\n",
    "    \n",
    "    The result image is computed as follows:\n",
    "    \n",
    "    initial_img * α + img * β + γ\n",
    "    NOTE: initial_img and img must be the same shape!\n",
    "    \"\"\"\n",
    "    return cv2.addWeighted(initial_img, α, img, β, γ)"
   ]
  },
  {
   "cell_type": "markdown",
   "metadata": {},
   "source": [
    "## Test Images"
   ]
  },
  {
   "cell_type": "code",
   "execution_count": 3,
   "metadata": {},
   "outputs": [
    {
     "data": {
      "text/plain": [
       "['solidWhiteCurve.jpg',\n",
       " 'solidWhiteRight.jpg',\n",
       " 'solidYellowCurve.jpg',\n",
       " 'solidYellowCurve2.jpg',\n",
       " 'solidYellowLeft.jpg',\n",
       " 'whiteCarLaneSwitch.jpg']"
      ]
     },
     "execution_count": 3,
     "metadata": {},
     "output_type": "execute_result"
    }
   ],
   "source": [
    "import os\n",
    "os.listdir(\"test_images/\")"
   ]
  },
  {
   "cell_type": "markdown",
   "metadata": {},
   "source": [
    "## Build a Lane Finding Pipeline\n",
    "\n"
   ]
  },
  {
   "cell_type": "markdown",
   "metadata": {},
   "source": [
    "Build the pipeline and run your solution on all test_images. Make copies into the `test_images_output` directory, and you can use the images in your writeup report.\n",
    "\n",
    "Try tuning the various parameters, especially the low and high Canny thresholds as well as the Hough lines parameters."
   ]
  },
  {
   "cell_type": "code",
   "execution_count": 96,
   "metadata": {},
   "outputs": [],
   "source": [
    "# TODO: Build your pipeline that will draw lane lines on the test_images\n",
    "# then save them to the test_images_output directory.\n",
    "def findLinesOnImage(image):\n",
    "    lineImage = findLines(image)\n",
    "    combinedImage = weighted_img(lineImage, image)\n",
    "    \n",
    "    return combinedImage\n",
    "\n",
    "def findLines(image):\n",
    "    image = imageGradient(image)\n",
    "    image = maskTopHalfOfImage(image)\n",
    "    #image = maskImage(image)\n",
    "    image = imageLines(image)\n",
    "    #image = findLongestLine(image)\n",
    "    \n",
    "    return image\n",
    "\n",
    "def imageGradient(image):\n",
    "    image = grayscale(image)\n",
    "    image = gaussian_blur(image, 3)\n",
    "    image = canny(image, 50, 150)\n",
    "    \n",
    "    return image\n",
    "\n",
    "def maskImage(image):\n",
    "    imshape = image.shape\n",
    "    vertices = np.array([[(100,imshape[0]),(460, 310), (500, 310), (900,imshape[0])]], dtype=np.int32)\n",
    "    image = region_of_interest(image, vertices)\n",
    "    \n",
    "    return image\n",
    "\n",
    "def imageLines(image):\n",
    "    distanceResolution = 2\n",
    "    angularResolution = 3*(np.pi/180)\n",
    "    intersectionThreshold = 10\n",
    "    min_line_length = 40\n",
    "    max_line_gap = 15\n",
    "    \n",
    "    image = hough_lines(image, distanceResolution, angularResolution, intersectionThreshold, min_line_length, max_line_gap)\n",
    "    \n",
    "    return image"
   ]
  },
  {
   "cell_type": "code",
   "execution_count": 128,
   "metadata": {},
   "outputs": [],
   "source": [
    "#start at middle and work outward looking for lines\n",
    "def draw_lines_improved(img, lines, color=[255, 0, 0], thickness=4):\n",
    "    rightLinesX = []\n",
    "    rightLinesY = []\n",
    "    leftLinesX = []\n",
    "    leftLinesY = []\n",
    "    \n",
    "    middleX = img.shape[1]/2 \n",
    "    maxX = img.shape[1]\n",
    "    maxY = img.shape[0]\n",
    "    \n",
    "    filteredLines = getRelevantLines(lines,maxX,maxY)\n",
    "    \n",
    "    for line in filteredLines:\n",
    "        for x1,y1,x2,y2 in line:\n",
    "            cv2.line(img, (x1, y1), (x2, y2), color, thickness)\n",
    "\n",
    "def getRelevantLines(lines,maxX,maxY):\n",
    "    lines = transformToSlope(lines)\n",
    "    lines = filterSlopes(lines,0.4)\n",
    "    lines = filterSimilarLines(lines, maxY)\n",
    "    lines = findLineIntersects(lines,maxX,maxY)\n",
    "    \n",
    "    return lines\n",
    "\n",
    "def transformToSlope(lines):\n",
    "    transformedLines = []\n",
    "    \n",
    "    for line in lines:\n",
    "        for x1,y1,x2,y2 in line:\n",
    "            slope = (y2-y1)/(x2-x1)\n",
    "            yIntersect = y2 - (slope * x2)\n",
    "            \n",
    "            transformedLines.append([slope,yIntersect])\n",
    "    \n",
    "    return transformedLines\n",
    "\n",
    "def filterSlopes(lines,minSlope):\n",
    "    filteredLines = []\n",
    "    \n",
    "    for line in lines:\n",
    "        slope = line[0]\n",
    "        yIntersect = line[1]\n",
    "        if abs(slope) >= minSlope:\n",
    "            filteredLines.append([slope,yIntersect])\n",
    "    \n",
    "    return filteredLines\n",
    "\n",
    "def filterSimilarLines(lines, maxY, slopeLimit=.2, yIntersectLimit=20):\n",
    "    filteredLines = []\n",
    "    lines.sort()\n",
    "    \n",
    "    similarLinesGroup = []\n",
    "    for i in range(len(lines)):\n",
    "        if i == len(lines)-1:\n",
    "            if similarLinesGroup:\n",
    "                filteredLines.append(similarLinesGroup)\n",
    "            break\n",
    "        \n",
    "        slope = lines[i][0]\n",
    "        nextSlope = lines[i+1][0]\n",
    "        \n",
    "        yIntersect = lines[i][1]\n",
    "        nextyIntersect = lines[i+1][1]\n",
    "        \n",
    "        if abs(slope - nextSlope) > slopeLimit:\n",
    "            if similarLinesGroup:\n",
    "                filteredLines.append(similarLinesGroup)\n",
    "            similarLinesGroup = []\n",
    "            continue\n",
    "        \n",
    "        if abs(yIntersect - nextyIntersect) > yIntersectLimit:\n",
    "            if similarLinesGroup:\n",
    "                filteredLines.append(similarLinesGroup)\n",
    "            similarLinesGroup = []\n",
    "            continue\n",
    "        \n",
    "        similarLinesGroup.append(lines[i])\n",
    "        \n",
    "    if not filteredLines:\n",
    "        return filteredLines\n",
    "        \n",
    "    bestFiltered = findTwoWithLargestCount(filteredLines)\n",
    "    #bestFiltered = findTwoSeparatedBy650Pixels(filteredLines,maxY)\n",
    "    #bestFiltered = filteredLines\n",
    "    \n",
    "    return bestFiltered\n",
    "\n",
    "def findTwoSeparatedBy650Pixels(lineGroups,maxY):\n",
    "    averageIntersects = []\n",
    "    \n",
    "    for lines in lineGroups:\n",
    "        intersectTotal = 0\n",
    "        for line in lines:\n",
    "            slope = line[0]\n",
    "            yIntersect = line[1]\n",
    "            bottomIntersect = (maxY - yIntersect)/slope\n",
    "            intersectTotal += bottomIntersect\n",
    "        intersectAverage = intersectTotal / len(lines)\n",
    "        averageIntersects.append([intersectAverage, len(lines)])\n",
    "    \n",
    "    lineCombos = []\n",
    "    for i in range(len(averageIntersects)):\n",
    "        for j in range(len(averageIntersects)):\n",
    "            separation = abs(averageIntersects[i][0] - averageIntersects[j][0])\n",
    "            if separation > 600 and separation < 700:\n",
    "                totalCount = averageIntersects[i][1] + averageIntersects[j][1]\n",
    "                lineCombos.append([totalCount,i,j])\n",
    "    \n",
    "    maxCombo = 0\n",
    "    bestLines = [0, 0]\n",
    "    for combo in lineCombos:\n",
    "        if combo[0] > maxCombo:\n",
    "            maxCombo = combo[0]\n",
    "            bestLines = [combo[1], combo[2]]\n",
    "    \n",
    "    filteredLines = []\n",
    "    filteredLines.append(lineGroups[bestLines[0]])\n",
    "    filteredLines.append(lineGroups[bestLines[1]])\n",
    "    \n",
    "    return lineGroups\n",
    "\n",
    "def findTwoWithLargestCount(lines):\n",
    "    biggestCount = 0\n",
    "    secondBiggestCount = 0\n",
    "    biggest = 0\n",
    "    second = 0\n",
    "    for i in range(len(lines)):\n",
    "        count = len(lines[i])\n",
    "        if count > biggestCount:\n",
    "            secondBiggestCount = biggestCount\n",
    "            second = biggest\n",
    "            biggestCount = count\n",
    "            biggest = i\n",
    "        else:\n",
    "            if count > secondBiggestCount:\n",
    "                secondBiggestCount = count\n",
    "                second = i\n",
    "    \n",
    "    bestFiltered = []\n",
    "    bestFiltered.append(lines[biggest])\n",
    "    bestFiltered.append(lines[second])\n",
    "    \n",
    "    return bestFiltered\n",
    "\n",
    "def findLineIntersects(lines,maxX,maxY):\n",
    "    linePoints = []\n",
    "    \n",
    "    for group in lines:\n",
    "        for line in group:\n",
    "            slope = line[0]\n",
    "            yIntersect = line[1]\n",
    "            if slope < 0:\n",
    "                yPoint1 = maxY\n",
    "            else:\n",
    "                yPoint1 = 0\n",
    "            xPoint1 = (yPoint1 - yIntersect)/slope\n",
    "\n",
    "            xPoint2 = maxX\n",
    "            yPoint2 = slope * xPoint2 + yIntersect\n",
    "            linePoints.append([[makeInt(xPoint1), makeInt(yPoint1), makeInt(xPoint2), makeInt(yPoint2)]])\n",
    "    \n",
    "    return linePoints\n",
    "\n",
    "def makeInt(number):\n",
    "    if math.isnan(number):\n",
    "        number = 0\n",
    "    if number >= 6666666666 or math.isinf(number):\n",
    "        number = 666666666\n",
    "    return int(number)\n",
    "\n",
    "def maskTopHalfOfImage(image):\n",
    "    ratioToMask = 1.7\n",
    "    imshape = image.shape\n",
    "    vertices = np.array([[(imshape[1],imshape[0]/ratioToMask),(imshape[1], imshape[0]), (0, imshape[0]), (0,imshape[0]/ratioToMask)]], dtype=np.int32)\n",
    "    image = region_of_interest(image, vertices)\n",
    "    \n",
    "    return image"
   ]
  },
  {
   "cell_type": "code",
   "execution_count": 121,
   "metadata": {
    "scrolled": false
   },
   "outputs": [
    {
     "data": {
      "image/png": "[encoded data removed]",
      "text/plain": [
       "<matplotlib.figure.Figure at 0x12173aef0>"
      ]
     },
     "metadata": {},
     "output_type": "display_data"
    }
   ],
   "source": [
    "import os\n",
    "images = os.listdir(\"test_images/\")\n",
    "\n",
    "for i in range(len(images)):\n",
    "    if i is not 0:\n",
    "        continue\n",
    "    image = mpimg.imread('test_images/'+images[i])\n",
    "    image = findLinesOnImage(image)\n",
    "\n",
    "    #print('This image is:', type(image), 'with dimensions:', image.shape)\n",
    "    plt.figure()\n",
    "    plt.imshow(image, cmap='gray')\n",
    "    \n",
    "    plt.savefig('solution_videos/pipeline_improvement/test')\n",
    "    "
   ]
  },
  {
   "cell_type": "markdown",
   "metadata": {},
   "source": [
    "## Test on Videos\n",
    "\n",
    "You know what's cooler than drawing lanes over images? Drawing lanes over video!\n",
    "\n",
    "We can test our solution on two provided videos:\n",
    "\n",
    "`solidWhiteRight.mp4`\n",
    "\n",
    "`solidYellowLeft.mp4`\n",
    "\n",
    "**Note: if you get an import error when you run the next cell, try changing your kernel (select the Kernel menu above --> Change Kernel). Still have problems? Try relaunching Jupyter Notebook from the terminal prompt. Also, consult the forums for more troubleshooting tips.**\n",
    "\n",
    "**If you get an error that looks like this:**\n",
    "```\n",
    "NeedDownloadError: Need ffmpeg exe. \n",
    "You can download it by calling: \n",
    "imageio.plugins.ffmpeg.download()\n",
    "```\n",
    "**Follow the instructions in the error message and check out [this forum post](https://discussions.udacity.com/t/project-error-of-test-on-videos/274082) for more troubleshooting tips across operating systems.**"
   ]
  },
  {
   "cell_type": "code",
   "execution_count": 105,
   "metadata": {},
   "outputs": [],
   "source": [
    "# Import everything needed to edit/save/watch video clips\n",
    "from moviepy.editor import VideoFileClip\n",
    "from IPython.display import HTML"
   ]
  },
  {
   "cell_type": "code",
   "execution_count": 106,
   "metadata": {},
   "outputs": [],
   "source": [
    "def process_image(image):\n",
    "    # NOTE: The output you return should be a color image (3 channel) for processing video below\n",
    "    # TODO: put your pipeline here,\n",
    "    # you should return the final output (image where lines are drawn on lanes)\n",
    "\n",
    "    return findLinesOnImage(image)"
   ]
  },
  {
   "cell_type": "markdown",
   "metadata": {},
   "source": [
    "Let's try the one with the solid white lane on the right first ..."
   ]
  },
  {
   "cell_type": "code",
   "execution_count": 122,
   "metadata": {
    "scrolled": false
   },
   "outputs": [
    {
     "name": "stdout",
     "output_type": "stream",
     "text": [
      "[MoviePy] >>>> Building video solution_videos/solidWhiteRight.mp4\n",
      "[MoviePy] Writing video solution_videos/solidWhiteRight.mp4\n"
     ]
    },
    {
     "name": "stderr",
     "output_type": "stream",
     "text": [
      "100%|█████████▉| 221/222 [00:05<00:00, 34.79it/s]\n"
     ]
    },
    {
     "name": "stdout",
     "output_type": "stream",
     "text": [
      "[MoviePy] Done.\n",
      "[MoviePy] >>>> Video ready: solution_videos/solidWhiteRight.mp4 \n",
      "\n",
      "CPU times: user 2.73 s, sys: 803 ms, total: 3.53 s\n",
      "Wall time: 6.74 s\n"
     ]
    }
   ],
   "source": [
    "white_output = 'solution_videos/solidWhiteRight.mp4'\n",
    "## To speed up the testing process you may want to try your pipeline on a shorter subclip of the video\n",
    "## To do so add .subclip(start_second,end_second) to the end of the line below\n",
    "## Where start_second and end_second are integer values representing the start and end of the subclip\n",
    "## You may also uncomment the following line for a subclip of the first 5 seconds\n",
    "#clip1 = VideoFileClip(\"test_videos/solidWhiteRight.mp4\").subclip(0,5)\n",
    "clip1 = VideoFileClip(\"test_videos/solidWhiteRight.mp4\")\n",
    "white_clip = clip1.fl_image(process_image) #NOTE: this function expects color images!!\n",
    "%time white_clip.write_videofile(white_output, audio=False)"
   ]
  },
  {
   "cell_type": "markdown",
   "metadata": {},
   "source": [
    "Play the video inline, or if you prefer find the video in your filesystem (should be in the same directory) and play it in your video player of choice."
   ]
  },
  {
   "cell_type": "code",
   "execution_count": 123,
   "metadata": {},
   "outputs": [
    {
     "data": {
      "text/html": [
       "\n",
       "<video width=\"960\" height=\"540\" controls>\n",
       "  <source src=\"solution_videos/solidWhiteRight.mp4\">\n",
       "</video>\n"
      ],
      "text/plain": [
       "<IPython.core.display.HTML object>"
      ]
     },
     "execution_count": 123,
     "metadata": {},
     "output_type": "execute_result"
    }
   ],
   "source": [
    "HTML(\"\"\"\n",
    "<video width=\"960\" height=\"540\" controls>\n",
    "  <source src=\"{0}\">\n",
    "</video>\n",
    "\"\"\".format(white_output))"
   ]
  },
  {
   "cell_type": "markdown",
   "metadata": {},
   "source": [
    "## Improve the draw_lines() function\n",
    "\n",
    "**At this point, if you were successful with making the pipeline and tuning parameters, you probably have the Hough line segments drawn onto the road, but what about identifying the full extent of the lane and marking it clearly as in the example video (P1_example.mp4)?  Think about defining a line to run the full length of the visible lane based on the line segments you identified with the Hough Transform. As mentioned previously, try to average and/or extrapolate the line segments you've detected to map out the full extent of the lane lines. You can see an example of the result you're going for in the video \"P1_example.mp4\".**\n",
    "\n",
    "**Go back and modify your draw_lines function accordingly and try re-running your pipeline. The new output should draw a single, solid line over the left lane line and a single, solid line over the right lane line. The lines should start from the bottom of the image and extend out to the top of the region of interest.**"
   ]
  },
  {
   "cell_type": "markdown",
   "metadata": {},
   "source": [
    "Now for the one with the solid yellow lane on the left. This one's more tricky!"
   ]
  },
  {
   "cell_type": "code",
   "execution_count": 124,
   "metadata": {
    "scrolled": false
   },
   "outputs": [
    {
     "name": "stdout",
     "output_type": "stream",
     "text": [
      "[MoviePy] >>>> Building video solution_videos/solidYellowLeft.mp4\n",
      "[MoviePy] Writing video solution_videos/solidYellowLeft.mp4\n"
     ]
    },
    {
     "name": "stderr",
     "output_type": "stream",
     "text": [
      "100%|█████████▉| 681/682 [00:19<00:00, 34.80it/s]\n"
     ]
    },
    {
     "name": "stdout",
     "output_type": "stream",
     "text": [
      "[MoviePy] Done.\n",
      "[MoviePy] >>>> Video ready: solution_videos/solidYellowLeft.mp4 \n",
      "\n",
      "CPU times: user 8.9 s, sys: 2.42 s, total: 11.3 s\n",
      "Wall time: 20.5 s\n"
     ]
    }
   ],
   "source": [
    "yellow_output = 'solution_videos/solidYellowLeft.mp4'\n",
    "## To speed up the testing process you may want to try your pipeline on a shorter subclip of the video\n",
    "## To do so add .subclip(start_second,end_second) to the end of the line below\n",
    "## Where start_second and end_second are integer values representing the start and end of the subclip\n",
    "## You may also uncomment the following line for a subclip of the first 5 seconds\n",
    "#clip2 = VideoFileClip('test_videos/solidYellowLeft.mp4').subclip(24,26)\n",
    "clip2 = VideoFileClip('test_videos/solidYellowLeft.mp4')\n",
    "yellow_clip = clip2.fl_image(process_image)\n",
    "%time yellow_clip.write_videofile(yellow_output, audio=False)"
   ]
  },
  {
   "cell_type": "code",
   "execution_count": 125,
   "metadata": {
    "scrolled": false
   },
   "outputs": [
    {
     "data": {
      "text/html": [
       "\n",
       "<video width=\"960\" height=\"540\" controls>\n",
       "  <source src=\"solution_videos/solidYellowLeft.mp4\">\n",
       "</video>\n"
      ],
      "text/plain": [
       "<IPython.core.display.HTML object>"
      ]
     },
     "execution_count": 125,
     "metadata": {},
     "output_type": "execute_result"
    }
   ],
   "source": [
    "HTML(\"\"\"\n",
    "<video width=\"960\" height=\"540\" controls>\n",
    "  <source src=\"{0}\">\n",
    "</video>\n",
    "\"\"\".format(yellow_output))"
   ]
  },
  {
   "cell_type": "markdown",
   "metadata": {},
   "source": [
    "## Writeup and Submission\n",
    "\n",
    "If you're satisfied with your video outputs, it's time to make the report writeup in a pdf or markdown file. Once you have this Ipython notebook ready along with the writeup, it's time to submit for review! Here is a [link](https://github.com/udacity/CarND-LaneLines-P1/blob/master/writeup_template.md) to the writeup template file.\n"
   ]
  },
  {
   "cell_type": "markdown",
   "metadata": {
    "collapsed": true
   },
   "source": [
    "## Optional Challenge\n",
    "\n",
    "Try your lane finding pipeline on the video below.  Does it still work?  Can you figure out a way to make it more robust?  If you're up for the challenge, modify your pipeline so it works with this video and submit it along with the rest of your project!"
   ]
  },
  {
   "cell_type": "code",
   "execution_count": 129,
   "metadata": {},
   "outputs": [
    {
     "name": "stdout",
     "output_type": "stream",
     "text": [
      "[MoviePy] >>>> Building video solution_videos/challenge.mp4\n",
      "[MoviePy] Writing video solution_videos/challenge.mp4\n"
     ]
    },
    {
     "name": "stderr",
     "output_type": "stream",
     "text": [
      "100%|██████████| 251/251 [00:13<00:00, 18.17it/s]\n"
     ]
    },
    {
     "name": "stdout",
     "output_type": "stream",
     "text": [
      "[MoviePy] Done.\n",
      "[MoviePy] >>>> Video ready: solution_videos/challenge.mp4 \n",
      "\n",
      "CPU times: user 6.55 s, sys: 1.44 s, total: 7.98 s\n",
      "Wall time: 15.4 s\n"
     ]
    }
   ],
   "source": [
    "challenge_output = 'solution_videos/challenge.mp4'\n",
    "## To speed up the testing process you may want to try your pipeline on a shorter subclip of the video\n",
    "## To do so add .subclip(start_second,end_second) to the end of the line below\n",
    "## Where start_second and end_second are integer values representing the start and end of the subclip\n",
    "## You may also uncomment the following line for a subclip of the first 5 seconds\n",
    "##clip3 = VideoFileClip('test_videos/challenge.mp4').subclip(0,5)\n",
    "clip3 = VideoFileClip('test_videos/challenge.mp4')\n",
    "challenge_clip = clip3.fl_image(process_image)\n",
    "%time challenge_clip.write_videofile(challenge_output, audio=False)"
   ]
  },
  {
   "cell_type": "code",
   "execution_count": 130,
   "metadata": {
    "scrolled": false
   },
   "outputs": [
    {
     "data": {
      "text/html": [
       "\n",
       "<video width=\"960\" height=\"540\" controls>\n",
       "  <source src=\"solution_videos/challenge.mp4\">\n",
       "</video>\n"
      ],
      "text/plain": [
       "<IPython.core.display.HTML object>"
      ]
     },
     "execution_count": 130,
     "metadata": {},
     "output_type": "execute_result"
    }
   ],
   "source": [
    "HTML(\"\"\"\n",
    "<video width=\"960\" height=\"540\" controls>\n",
    "  <source src=\"{0}\">\n",
    "</video>\n",
    "\"\"\".format(challenge_output))"
   ]
  },
  {
   "cell_type": "code",
   "execution_count": null,
   "metadata": {},
   "outputs": [],
   "source": []
  }
 ],
 "metadata": {
  "anaconda-cloud": {},
  "kernelspec": {
   "display_name": "Python 3",
   "language": "python",
   "name": "python3"
  },
  "language_info": {
   "codemirror_mode": {
    "name": "ipython",
    "version": 3
   },
   "file_extension": ".py",
   "mimetype": "text/x-python",
   "name": "python",
   "nbconvert_exporter": "python",
   "pygments_lexer": "ipython3",
   "version": "3.5.2"
  },
  "widgets": {
   "state": {},
   "version": "1.1.2"
  }
 },
 "nbformat": 4,
 "nbformat_minor": 1
}
